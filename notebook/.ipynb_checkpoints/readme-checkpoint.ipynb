{
 "cells": [
  {
   "cell_type": "markdown",
   "metadata": {},
   "source": [
    "# Data Processing on Titanic Dataset"
   ]
  },
  {
   "cell_type": "markdown",
   "metadata": {},
   "source": [
    "## Homework3 Task: \n",
    "Pick up a dataset from: https://github.com/awesomedata/awesome-public-datasets<br>\n",
    "Do data processing.\n",
    "\n",
    "## The dataset:\n",
    "Titanic dataset: https://www.kaggle.com/c/titanic/data<br>\n",
    "- train.csv: Rows: 891, Cols: 11, (memory usage: 83.5+ KB)\n",
    "- test.csv: Rows: 418, Cols: 10, (memory usage: 35.9+ KB)\n",
    "- gender_submission.csv: Rows: 418, Cols: 1, (memory usage: 6.5 KB)"
   ]
  },
  {
   "cell_type": "markdown",
   "metadata": {},
   "source": [
    "## Useful website:\n",
    "Titanica: https://www.encyclopedia-titanica.org/titanic-deckplans/profile.html<br>\n",
    "<img width=\"1440\" alt=\"whole\" src=\"https://user-images.githubusercontent.com/44624585/61586472-a9114180-ab29-11e9-8483-195db549a06e.png\"><br><br>"
   ]
  },
  {
   "cell_type": "markdown",
   "metadata": {},
   "source": [
    "## Variables in the dataset"
   ]
  },
  {
   "cell_type": "markdown",
   "metadata": {},
   "source": [
    "|Variables|Definition|Data type|Key|\n",
    "|-|-|-|-|\n",
    "|Survived|Survived|int|0 = No, 1 = Yes|\n",
    "|Pclass|Ticket class|int|1 = 1st, 2 = 2nd, 3 = 3rd|\n",
    "|Name|Name|str| |\n",
    "|Sex|Sex|str| |\n",
    "|Age|Age in years|float| |\n",
    "|Sibsp|# of siblings/spouses abroad the Titanic|int| |\n",
    "|Parch|# of parents/children abroad the Titanic|int| |\n",
    "|Ticket|ticket number|str| |\n",
    "|Fare|Passenger fare|float| |\n",
    "|Cabin|Cabin number|str| |\n",
    "|Embarked|Port of Embarkation|str|C = Cherbourg, Q = Queenstown, S = Southampton|"
   ]
  },
  {
   "cell_type": "markdown",
   "metadata": {},
   "source": [
    "## What problems we have in the dataset\n",
    "- Missing Values\n",
    "- Outliers\n",
    "- Non-numerical Data\n",
    "- Multiple Value Ranges"
   ]
  },
  {
   "cell_type": "markdown",
   "metadata": {},
   "source": [
    "## Missing Values"
   ]
  },
  {
   "cell_type": "markdown",
   "metadata": {},
   "source": [
    "### Columns that have missing values\n",
    "There are three columns which have missing values.\n",
    "- Age\n",
    "- Cabin\n",
    "- Embarked"
   ]
  },
  {
   "cell_type": "markdown",
   "metadata": {},
   "source": [
    "**Solution for `Age` column**\n",
    "<img width=\"490\" alt=\"Screen Shot 2019-07-22 at 4 46 40 PM\" src=\"https://user-images.githubusercontent.com/44624585/61672409-5d34d880-aca0-11e9-8da0-73e198b9b0ca.png\">\n",
    "\n",
    "`Pclass` has the biggest absolute corretion with `Age`. So the solution is take the mean of Age of each `Pclass` and insert them into blanks respectively."
   ]
  },
  {
   "cell_type": "markdown",
   "metadata": {},
   "source": [
    "**Solution for `Cabin` column**<br>\n",
    "Get rid of this column.\n",
    "\n",
    "**Because**\n",
    "<img width=\"626\" alt=\"Screen Shot 2019-07-22 at 4 49 54 PM\" src=\"https://user-images.githubusercontent.com/44624585/61672501-c0266f80-aca0-11e9-9e2b-19d7f178e8ea.png\">\n",
    "\n",
    "- It doesn't seem there is a correlation between `Survived`, which is the target variable, and `Cabin`.\n",
    "- The `Cabin` is missing 77.1% of values in the column. So it is hard to fill."
   ]
  },
  {
   "cell_type": "markdown",
   "metadata": {},
   "source": [
    "**Solution for `Embarked` column**<br>\n",
    "The column is missing only two values so I am going to fill the two blanks with `S` which is the place where most people got board from. \n",
    "<img width=\"630\" alt=\"Screen Shot 2019-07-22 at 4 53 00 PM\" src=\"https://user-images.githubusercontent.com/44624585/61672630-2e6b3200-aca1-11e9-89c0-b2dd563c3585.png\">"
   ]
  },
  {
   "cell_type": "markdown",
   "metadata": {},
   "source": [
    "## Outliers"
   ]
  },
  {
   "cell_type": "markdown",
   "metadata": {},
   "source": [
    "The minimum and maximum of `Fare` seem something wrong.\n",
    "<img width=\"516\" alt=\"Screen Shot 2019-07-22 at 4 55 33 PM\" src=\"https://user-images.githubusercontent.com/44624585/61672714-8c981500-aca1-11e9-95f2-884166b0e72d.png\">"
   ]
  },
  {
   "cell_type": "markdown",
   "metadata": {},
   "source": [
    "<img width=\"649\" alt=\"Screen Shot 2019-07-22 at 4 57 01 PM\" src=\"https://user-images.githubusercontent.com/44624585/61672758-be10e080-aca1-11e9-9f78-c85a2c5de624.png\">"
   ]
  },
  {
   "cell_type": "markdown",
   "metadata": {},
   "source": [
    "**Solution for `Fare`**<br>\n",
    "By using DataFrame and [Titanica](https://www.encyclopedia-titanica.org/titanic-deckplans/profile.html), which is the useful site, try to find the fare of rooms whose size and shape are similar to the size of rooms whose `Fare` is missing.\n",
    "If can't find them, use mean of fare of each `Pclass` because they are correlated with each other."
   ]
  },
  {
   "cell_type": "markdown",
   "metadata": {},
   "source": [
    "## Non-Numerical Data"
   ]
  },
  {
   "cell_type": "markdown",
   "metadata": {},
   "source": [
    "In the dataset I use for training, there are two columns which have non-numerical values.\n",
    "<img width=\"621\" alt=\"Screen Shot 2019-07-22 at 5 03 04 PM\" src=\"https://user-images.githubusercontent.com/44624585/61672994-9f5f1980-aca2-11e9-9205-e2db031dd606.png\">\n",
    "\n",
    "- `Sex`: Usually, sex is not dealt with ordinal variable, but I am going to deal with sex as an ordinal variable here because the female has more priority to be rescued like the privious plot shows. {male: 0, female: 1}\n",
    "- `Embarked`: This is not ordinal variable so I am going to use one-hot."
   ]
  },
  {
   "cell_type": "markdown",
   "metadata": {},
   "source": [
    "## Multiple Value Ranges"
   ]
  },
  {
   "cell_type": "markdown",
   "metadata": {},
   "source": [
    "To make them in a range between 0 and 1, use Min-Max Normalization.<br><br>\n",
    "$$\n",
    "y = \\frac{x - x_{min}}{x_{max} - x_{min}}\n",
    "$$\n",
    "<br><br>\n",
    "Where<br>\n",
    "$y: $is the normalized value of x\n",
    "$x: $is a value\n",
    "$x_min: $is the minmum in a column\n",
    "$x_max: $is the maximum in a column "
   ]
  },
  {
   "cell_type": "markdown",
   "metadata": {},
   "source": [
    "## Others"
   ]
  },
  {
   "cell_type": "markdown",
   "metadata": {},
   "source": [
    "I also use PCA in order to summarize the dataset and to reduce the feature dimensions.\n",
    "And train models, Decision Tree, Random Forest, KNN, and NN on both of dataset without PCA and with PCA, and compared them by actually submitting the results to [Kaggle](https://www.kaggle.com/c/titanic/overview)."
   ]
  }
 ],
 "metadata": {
  "kernelspec": {
   "display_name": "Python 3",
   "language": "python",
   "name": "python3"
  },
  "language_info": {
   "codemirror_mode": {
    "name": "ipython",
    "version": 3
   },
   "file_extension": ".py",
   "mimetype": "text/x-python",
   "name": "python",
   "nbconvert_exporter": "python",
   "pygments_lexer": "ipython3",
   "version": "3.7.3"
  }
 },
 "nbformat": 4,
 "nbformat_minor": 2
}
